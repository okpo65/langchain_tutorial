{
 "cells": [
  {
   "cell_type": "code",
   "execution_count": 2,
   "id": "58b14a07-5d97-4ad1-85dc-af33bb90e9e8",
   "metadata": {
    "collapsed": true,
    "jupyter": {
     "outputs_hidden": true
    }
   },
   "outputs": [
    {
     "name": "stdout",
     "output_type": "stream",
     "text": [
      "Requirement already satisfied: langchain in /Users/jihwan/miniconda3/envs/jupyter/lib/python3.8/site-packages (0.0.322)\n",
      "Requirement already satisfied: PyYAML>=5.3 in /Users/jihwan/miniconda3/envs/jupyter/lib/python3.8/site-packages (from langchain) (6.0.1)\n",
      "Requirement already satisfied: SQLAlchemy<3,>=1.4 in /Users/jihwan/miniconda3/envs/jupyter/lib/python3.8/site-packages (from langchain) (2.0.22)\n",
      "Requirement already satisfied: aiohttp<4.0.0,>=3.8.3 in /Users/jihwan/miniconda3/envs/jupyter/lib/python3.8/site-packages (from langchain) (3.8.6)\n",
      "Requirement already satisfied: anyio<4.0 in /Users/jihwan/miniconda3/envs/jupyter/lib/python3.8/site-packages (from langchain) (3.7.1)\n",
      "Requirement already satisfied: async-timeout<5.0.0,>=4.0.0 in /Users/jihwan/miniconda3/envs/jupyter/lib/python3.8/site-packages (from langchain) (4.0.3)\n",
      "Requirement already satisfied: dataclasses-json<0.7,>=0.5.7 in /Users/jihwan/miniconda3/envs/jupyter/lib/python3.8/site-packages (from langchain) (0.6.1)\n",
      "Requirement already satisfied: jsonpatch<2.0,>=1.33 in /Users/jihwan/miniconda3/envs/jupyter/lib/python3.8/site-packages (from langchain) (1.33)\n",
      "Requirement already satisfied: langsmith<0.1.0,>=0.0.43 in /Users/jihwan/miniconda3/envs/jupyter/lib/python3.8/site-packages (from langchain) (0.0.51)\n",
      "Requirement already satisfied: numpy<2,>=1 in /Users/jihwan/miniconda3/envs/jupyter/lib/python3.8/site-packages (from langchain) (1.24.3)\n",
      "Requirement already satisfied: pydantic<3,>=1 in /Users/jihwan/miniconda3/envs/jupyter/lib/python3.8/site-packages (from langchain) (2.4.2)\n",
      "Requirement already satisfied: requests<3,>=2 in /Users/jihwan/miniconda3/envs/jupyter/lib/python3.8/site-packages (from langchain) (2.31.0)\n",
      "Requirement already satisfied: tenacity<9.0.0,>=8.1.0 in /Users/jihwan/miniconda3/envs/jupyter/lib/python3.8/site-packages (from langchain) (8.2.3)\n",
      "Requirement already satisfied: attrs>=17.3.0 in /Users/jihwan/miniconda3/envs/jupyter/lib/python3.8/site-packages (from aiohttp<4.0.0,>=3.8.3->langchain) (23.1.0)\n",
      "Requirement already satisfied: charset-normalizer<4.0,>=2.0 in /Users/jihwan/miniconda3/envs/jupyter/lib/python3.8/site-packages (from aiohttp<4.0.0,>=3.8.3->langchain) (3.3.0)\n",
      "Requirement already satisfied: multidict<7.0,>=4.5 in /Users/jihwan/miniconda3/envs/jupyter/lib/python3.8/site-packages (from aiohttp<4.0.0,>=3.8.3->langchain) (6.0.4)\n",
      "Requirement already satisfied: yarl<2.0,>=1.0 in /Users/jihwan/miniconda3/envs/jupyter/lib/python3.8/site-packages (from aiohttp<4.0.0,>=3.8.3->langchain) (1.9.2)\n",
      "Requirement already satisfied: frozenlist>=1.1.1 in /Users/jihwan/miniconda3/envs/jupyter/lib/python3.8/site-packages (from aiohttp<4.0.0,>=3.8.3->langchain) (1.4.0)\n",
      "Requirement already satisfied: aiosignal>=1.1.2 in /Users/jihwan/miniconda3/envs/jupyter/lib/python3.8/site-packages (from aiohttp<4.0.0,>=3.8.3->langchain) (1.3.1)\n",
      "Requirement already satisfied: idna>=2.8 in /Users/jihwan/miniconda3/envs/jupyter/lib/python3.8/site-packages (from anyio<4.0->langchain) (3.4)\n",
      "Requirement already satisfied: sniffio>=1.1 in /Users/jihwan/miniconda3/envs/jupyter/lib/python3.8/site-packages (from anyio<4.0->langchain) (1.3.0)\n",
      "Requirement already satisfied: exceptiongroup in /Users/jihwan/miniconda3/envs/jupyter/lib/python3.8/site-packages (from anyio<4.0->langchain) (1.1.3)\n",
      "Requirement already satisfied: marshmallow<4.0.0,>=3.18.0 in /Users/jihwan/miniconda3/envs/jupyter/lib/python3.8/site-packages (from dataclasses-json<0.7,>=0.5.7->langchain) (3.20.1)\n",
      "Requirement already satisfied: typing-inspect<1,>=0.4.0 in /Users/jihwan/miniconda3/envs/jupyter/lib/python3.8/site-packages (from dataclasses-json<0.7,>=0.5.7->langchain) (0.9.0)\n",
      "Requirement already satisfied: jsonpointer>=1.9 in /Users/jihwan/miniconda3/envs/jupyter/lib/python3.8/site-packages (from jsonpatch<2.0,>=1.33->langchain) (2.4)\n",
      "Requirement already satisfied: annotated-types>=0.4.0 in /Users/jihwan/miniconda3/envs/jupyter/lib/python3.8/site-packages (from pydantic<3,>=1->langchain) (0.6.0)\n",
      "Requirement already satisfied: pydantic-core==2.10.1 in /Users/jihwan/miniconda3/envs/jupyter/lib/python3.8/site-packages (from pydantic<3,>=1->langchain) (2.10.1)\n",
      "Requirement already satisfied: typing-extensions>=4.6.1 in /Users/jihwan/miniconda3/envs/jupyter/lib/python3.8/site-packages (from pydantic<3,>=1->langchain) (4.8.0)\n",
      "Requirement already satisfied: urllib3<3,>=1.21.1 in /Users/jihwan/miniconda3/envs/jupyter/lib/python3.8/site-packages (from requests<3,>=2->langchain) (2.0.7)\n",
      "Requirement already satisfied: certifi>=2017.4.17 in /Users/jihwan/miniconda3/envs/jupyter/lib/python3.8/site-packages (from requests<3,>=2->langchain) (2023.7.22)\n",
      "Requirement already satisfied: packaging>=17.0 in /Users/jihwan/miniconda3/envs/jupyter/lib/python3.8/site-packages (from marshmallow<4.0.0,>=3.18.0->dataclasses-json<0.7,>=0.5.7->langchain) (23.1)\n",
      "Requirement already satisfied: mypy-extensions>=0.3.0 in /Users/jihwan/miniconda3/envs/jupyter/lib/python3.8/site-packages (from typing-inspect<1,>=0.4.0->dataclasses-json<0.7,>=0.5.7->langchain) (1.0.0)\n",
      "Requirement already satisfied: langchain-experimental in /Users/jihwan/miniconda3/envs/jupyter/lib/python3.8/site-packages (0.0.34)\n",
      "Requirement already satisfied: langchain>=0.0.308 in /Users/jihwan/miniconda3/envs/jupyter/lib/python3.8/site-packages (from langchain-experimental) (0.0.322)\n",
      "Requirement already satisfied: PyYAML>=5.3 in /Users/jihwan/miniconda3/envs/jupyter/lib/python3.8/site-packages (from langchain>=0.0.308->langchain-experimental) (6.0.1)\n",
      "Requirement already satisfied: SQLAlchemy<3,>=1.4 in /Users/jihwan/miniconda3/envs/jupyter/lib/python3.8/site-packages (from langchain>=0.0.308->langchain-experimental) (2.0.22)\n",
      "Requirement already satisfied: aiohttp<4.0.0,>=3.8.3 in /Users/jihwan/miniconda3/envs/jupyter/lib/python3.8/site-packages (from langchain>=0.0.308->langchain-experimental) (3.8.6)\n",
      "Requirement already satisfied: anyio<4.0 in /Users/jihwan/miniconda3/envs/jupyter/lib/python3.8/site-packages (from langchain>=0.0.308->langchain-experimental) (3.7.1)\n",
      "Requirement already satisfied: async-timeout<5.0.0,>=4.0.0 in /Users/jihwan/miniconda3/envs/jupyter/lib/python3.8/site-packages (from langchain>=0.0.308->langchain-experimental) (4.0.3)\n",
      "Requirement already satisfied: dataclasses-json<0.7,>=0.5.7 in /Users/jihwan/miniconda3/envs/jupyter/lib/python3.8/site-packages (from langchain>=0.0.308->langchain-experimental) (0.6.1)\n",
      "Requirement already satisfied: jsonpatch<2.0,>=1.33 in /Users/jihwan/miniconda3/envs/jupyter/lib/python3.8/site-packages (from langchain>=0.0.308->langchain-experimental) (1.33)\n",
      "Requirement already satisfied: langsmith<0.1.0,>=0.0.43 in /Users/jihwan/miniconda3/envs/jupyter/lib/python3.8/site-packages (from langchain>=0.0.308->langchain-experimental) (0.0.51)\n",
      "Requirement already satisfied: numpy<2,>=1 in /Users/jihwan/miniconda3/envs/jupyter/lib/python3.8/site-packages (from langchain>=0.0.308->langchain-experimental) (1.24.3)\n",
      "Requirement already satisfied: pydantic<3,>=1 in /Users/jihwan/miniconda3/envs/jupyter/lib/python3.8/site-packages (from langchain>=0.0.308->langchain-experimental) (2.4.2)\n",
      "Requirement already satisfied: requests<3,>=2 in /Users/jihwan/miniconda3/envs/jupyter/lib/python3.8/site-packages (from langchain>=0.0.308->langchain-experimental) (2.31.0)\n",
      "Requirement already satisfied: tenacity<9.0.0,>=8.1.0 in /Users/jihwan/miniconda3/envs/jupyter/lib/python3.8/site-packages (from langchain>=0.0.308->langchain-experimental) (8.2.3)\n",
      "Requirement already satisfied: attrs>=17.3.0 in /Users/jihwan/miniconda3/envs/jupyter/lib/python3.8/site-packages (from aiohttp<4.0.0,>=3.8.3->langchain>=0.0.308->langchain-experimental) (23.1.0)\n",
      "Requirement already satisfied: charset-normalizer<4.0,>=2.0 in /Users/jihwan/miniconda3/envs/jupyter/lib/python3.8/site-packages (from aiohttp<4.0.0,>=3.8.3->langchain>=0.0.308->langchain-experimental) (3.3.0)\n",
      "Requirement already satisfied: multidict<7.0,>=4.5 in /Users/jihwan/miniconda3/envs/jupyter/lib/python3.8/site-packages (from aiohttp<4.0.0,>=3.8.3->langchain>=0.0.308->langchain-experimental) (6.0.4)\n",
      "Requirement already satisfied: yarl<2.0,>=1.0 in /Users/jihwan/miniconda3/envs/jupyter/lib/python3.8/site-packages (from aiohttp<4.0.0,>=3.8.3->langchain>=0.0.308->langchain-experimental) (1.9.2)\n",
      "Requirement already satisfied: frozenlist>=1.1.1 in /Users/jihwan/miniconda3/envs/jupyter/lib/python3.8/site-packages (from aiohttp<4.0.0,>=3.8.3->langchain>=0.0.308->langchain-experimental) (1.4.0)\n",
      "Requirement already satisfied: aiosignal>=1.1.2 in /Users/jihwan/miniconda3/envs/jupyter/lib/python3.8/site-packages (from aiohttp<4.0.0,>=3.8.3->langchain>=0.0.308->langchain-experimental) (1.3.1)\n",
      "Requirement already satisfied: idna>=2.8 in /Users/jihwan/miniconda3/envs/jupyter/lib/python3.8/site-packages (from anyio<4.0->langchain>=0.0.308->langchain-experimental) (3.4)\n",
      "Requirement already satisfied: sniffio>=1.1 in /Users/jihwan/miniconda3/envs/jupyter/lib/python3.8/site-packages (from anyio<4.0->langchain>=0.0.308->langchain-experimental) (1.3.0)\n",
      "Requirement already satisfied: exceptiongroup in /Users/jihwan/miniconda3/envs/jupyter/lib/python3.8/site-packages (from anyio<4.0->langchain>=0.0.308->langchain-experimental) (1.1.3)\n",
      "Requirement already satisfied: marshmallow<4.0.0,>=3.18.0 in /Users/jihwan/miniconda3/envs/jupyter/lib/python3.8/site-packages (from dataclasses-json<0.7,>=0.5.7->langchain>=0.0.308->langchain-experimental) (3.20.1)\n",
      "Requirement already satisfied: typing-inspect<1,>=0.4.0 in /Users/jihwan/miniconda3/envs/jupyter/lib/python3.8/site-packages (from dataclasses-json<0.7,>=0.5.7->langchain>=0.0.308->langchain-experimental) (0.9.0)\n",
      "Requirement already satisfied: jsonpointer>=1.9 in /Users/jihwan/miniconda3/envs/jupyter/lib/python3.8/site-packages (from jsonpatch<2.0,>=1.33->langchain>=0.0.308->langchain-experimental) (2.4)\n",
      "Requirement already satisfied: annotated-types>=0.4.0 in /Users/jihwan/miniconda3/envs/jupyter/lib/python3.8/site-packages (from pydantic<3,>=1->langchain>=0.0.308->langchain-experimental) (0.6.0)\n",
      "Requirement already satisfied: pydantic-core==2.10.1 in /Users/jihwan/miniconda3/envs/jupyter/lib/python3.8/site-packages (from pydantic<3,>=1->langchain>=0.0.308->langchain-experimental) (2.10.1)\n",
      "Requirement already satisfied: typing-extensions>=4.6.1 in /Users/jihwan/miniconda3/envs/jupyter/lib/python3.8/site-packages (from pydantic<3,>=1->langchain>=0.0.308->langchain-experimental) (4.8.0)\n",
      "Requirement already satisfied: urllib3<3,>=1.21.1 in /Users/jihwan/miniconda3/envs/jupyter/lib/python3.8/site-packages (from requests<3,>=2->langchain>=0.0.308->langchain-experimental) (2.0.7)\n",
      "Requirement already satisfied: certifi>=2017.4.17 in /Users/jihwan/miniconda3/envs/jupyter/lib/python3.8/site-packages (from requests<3,>=2->langchain>=0.0.308->langchain-experimental) (2023.7.22)\n",
      "Requirement already satisfied: packaging>=17.0 in /Users/jihwan/miniconda3/envs/jupyter/lib/python3.8/site-packages (from marshmallow<4.0.0,>=3.18.0->dataclasses-json<0.7,>=0.5.7->langchain>=0.0.308->langchain-experimental) (23.1)\n",
      "Requirement already satisfied: mypy-extensions>=0.3.0 in /Users/jihwan/miniconda3/envs/jupyter/lib/python3.8/site-packages (from typing-inspect<1,>=0.4.0->dataclasses-json<0.7,>=0.5.7->langchain>=0.0.308->langchain-experimental) (1.0.0)\n",
      "Requirement already satisfied: psycopg2-binary in /Users/jihwan/miniconda3/envs/jupyter/lib/python3.8/site-packages (2.9.9)\n",
      "Requirement already satisfied: openai in /Users/jihwan/miniconda3/envs/jupyter/lib/python3.8/site-packages (0.28.1)\n",
      "Requirement already satisfied: requests>=2.20 in /Users/jihwan/miniconda3/envs/jupyter/lib/python3.8/site-packages (from openai) (2.31.0)\n",
      "Requirement already satisfied: tqdm in /Users/jihwan/miniconda3/envs/jupyter/lib/python3.8/site-packages (from openai) (4.66.1)\n",
      "Requirement already satisfied: aiohttp in /Users/jihwan/miniconda3/envs/jupyter/lib/python3.8/site-packages (from openai) (3.8.6)\n",
      "Requirement already satisfied: charset-normalizer<4,>=2 in /Users/jihwan/miniconda3/envs/jupyter/lib/python3.8/site-packages (from requests>=2.20->openai) (3.3.0)\n",
      "Requirement already satisfied: idna<4,>=2.5 in /Users/jihwan/miniconda3/envs/jupyter/lib/python3.8/site-packages (from requests>=2.20->openai) (3.4)\n",
      "Requirement already satisfied: urllib3<3,>=1.21.1 in /Users/jihwan/miniconda3/envs/jupyter/lib/python3.8/site-packages (from requests>=2.20->openai) (2.0.7)\n",
      "Requirement already satisfied: certifi>=2017.4.17 in /Users/jihwan/miniconda3/envs/jupyter/lib/python3.8/site-packages (from requests>=2.20->openai) (2023.7.22)\n",
      "Requirement already satisfied: attrs>=17.3.0 in /Users/jihwan/miniconda3/envs/jupyter/lib/python3.8/site-packages (from aiohttp->openai) (23.1.0)\n",
      "Requirement already satisfied: multidict<7.0,>=4.5 in /Users/jihwan/miniconda3/envs/jupyter/lib/python3.8/site-packages (from aiohttp->openai) (6.0.4)\n",
      "Requirement already satisfied: async-timeout<5.0,>=4.0.0a3 in /Users/jihwan/miniconda3/envs/jupyter/lib/python3.8/site-packages (from aiohttp->openai) (4.0.3)\n",
      "Requirement already satisfied: yarl<2.0,>=1.0 in /Users/jihwan/miniconda3/envs/jupyter/lib/python3.8/site-packages (from aiohttp->openai) (1.9.2)\n",
      "Requirement already satisfied: frozenlist>=1.1.1 in /Users/jihwan/miniconda3/envs/jupyter/lib/python3.8/site-packages (from aiohttp->openai) (1.4.0)\n",
      "Requirement already satisfied: aiosignal>=1.1.2 in /Users/jihwan/miniconda3/envs/jupyter/lib/python3.8/site-packages (from aiohttp->openai) (1.3.1)\n",
      "Requirement already satisfied: google-api-python-client in /Users/jihwan/miniconda3/envs/jupyter/lib/python3.8/site-packages (2.105.0)\n",
      "Requirement already satisfied: httplib2<1.dev0,>=0.15.0 in /Users/jihwan/miniconda3/envs/jupyter/lib/python3.8/site-packages (from google-api-python-client) (0.22.0)\n",
      "Requirement already satisfied: google-auth<3.0.0.dev0,>=1.19.0 in /Users/jihwan/miniconda3/envs/jupyter/lib/python3.8/site-packages (from google-api-python-client) (2.23.3)\n",
      "Requirement already satisfied: google-auth-httplib2>=0.1.0 in /Users/jihwan/miniconda3/envs/jupyter/lib/python3.8/site-packages (from google-api-python-client) (0.1.1)\n",
      "Requirement already satisfied: google-api-core!=2.0.*,!=2.1.*,!=2.2.*,!=2.3.0,<3.0.0.dev0,>=1.31.5 in /Users/jihwan/miniconda3/envs/jupyter/lib/python3.8/site-packages (from google-api-python-client) (2.12.0)\n",
      "Requirement already satisfied: uritemplate<5,>=3.0.1 in /Users/jihwan/miniconda3/envs/jupyter/lib/python3.8/site-packages (from google-api-python-client) (4.1.1)\n",
      "Requirement already satisfied: googleapis-common-protos<2.0.dev0,>=1.56.2 in /Users/jihwan/miniconda3/envs/jupyter/lib/python3.8/site-packages (from google-api-core!=2.0.*,!=2.1.*,!=2.2.*,!=2.3.0,<3.0.0.dev0,>=1.31.5->google-api-python-client) (1.61.0)\n",
      "Requirement already satisfied: protobuf!=3.20.0,!=3.20.1,!=4.21.0,!=4.21.1,!=4.21.2,!=4.21.3,!=4.21.4,!=4.21.5,<5.0.0.dev0,>=3.19.5 in /Users/jihwan/miniconda3/envs/jupyter/lib/python3.8/site-packages (from google-api-core!=2.0.*,!=2.1.*,!=2.2.*,!=2.3.0,<3.0.0.dev0,>=1.31.5->google-api-python-client) (4.24.4)\n",
      "Requirement already satisfied: requests<3.0.0.dev0,>=2.18.0 in /Users/jihwan/miniconda3/envs/jupyter/lib/python3.8/site-packages (from google-api-core!=2.0.*,!=2.1.*,!=2.2.*,!=2.3.0,<3.0.0.dev0,>=1.31.5->google-api-python-client) (2.31.0)\n",
      "Requirement already satisfied: cachetools<6.0,>=2.0.0 in /Users/jihwan/miniconda3/envs/jupyter/lib/python3.8/site-packages (from google-auth<3.0.0.dev0,>=1.19.0->google-api-python-client) (5.3.2)\n",
      "Requirement already satisfied: pyasn1-modules>=0.2.1 in /Users/jihwan/miniconda3/envs/jupyter/lib/python3.8/site-packages (from google-auth<3.0.0.dev0,>=1.19.0->google-api-python-client) (0.3.0)\n",
      "Requirement already satisfied: rsa<5,>=3.1.4 in /Users/jihwan/miniconda3/envs/jupyter/lib/python3.8/site-packages (from google-auth<3.0.0.dev0,>=1.19.0->google-api-python-client) (4.9)\n",
      "Requirement already satisfied: pyparsing!=3.0.0,!=3.0.1,!=3.0.2,!=3.0.3,<4,>=2.4.2 in /Users/jihwan/miniconda3/envs/jupyter/lib/python3.8/site-packages (from httplib2<1.dev0,>=0.15.0->google-api-python-client) (3.0.9)\n",
      "Requirement already satisfied: pyasn1<0.6.0,>=0.4.6 in /Users/jihwan/miniconda3/envs/jupyter/lib/python3.8/site-packages (from pyasn1-modules>=0.2.1->google-auth<3.0.0.dev0,>=1.19.0->google-api-python-client) (0.5.0)\n",
      "Requirement already satisfied: charset-normalizer<4,>=2 in /Users/jihwan/miniconda3/envs/jupyter/lib/python3.8/site-packages (from requests<3.0.0.dev0,>=2.18.0->google-api-core!=2.0.*,!=2.1.*,!=2.2.*,!=2.3.0,<3.0.0.dev0,>=1.31.5->google-api-python-client) (3.3.0)\n",
      "Requirement already satisfied: idna<4,>=2.5 in /Users/jihwan/miniconda3/envs/jupyter/lib/python3.8/site-packages (from requests<3.0.0.dev0,>=2.18.0->google-api-core!=2.0.*,!=2.1.*,!=2.2.*,!=2.3.0,<3.0.0.dev0,>=1.31.5->google-api-python-client) (3.4)\n",
      "Requirement already satisfied: urllib3<3,>=1.21.1 in /Users/jihwan/miniconda3/envs/jupyter/lib/python3.8/site-packages (from requests<3.0.0.dev0,>=2.18.0->google-api-core!=2.0.*,!=2.1.*,!=2.2.*,!=2.3.0,<3.0.0.dev0,>=1.31.5->google-api-python-client) (2.0.7)\n",
      "Requirement already satisfied: certifi>=2017.4.17 in /Users/jihwan/miniconda3/envs/jupyter/lib/python3.8/site-packages (from requests<3.0.0.dev0,>=2.18.0->google-api-core!=2.0.*,!=2.1.*,!=2.2.*,!=2.3.0,<3.0.0.dev0,>=1.31.5->google-api-python-client) (2023.7.22)\n",
      "Requirement already satisfied: google-search-results in /Users/jihwan/miniconda3/envs/jupyter/lib/python3.8/site-packages (2.4.2)\n",
      "Requirement already satisfied: requests in /Users/jihwan/miniconda3/envs/jupyter/lib/python3.8/site-packages (from google-search-results) (2.31.0)\n",
      "Requirement already satisfied: charset-normalizer<4,>=2 in /Users/jihwan/miniconda3/envs/jupyter/lib/python3.8/site-packages (from requests->google-search-results) (3.3.0)\n",
      "Requirement already satisfied: idna<4,>=2.5 in /Users/jihwan/miniconda3/envs/jupyter/lib/python3.8/site-packages (from requests->google-search-results) (3.4)\n",
      "Requirement already satisfied: urllib3<3,>=1.21.1 in /Users/jihwan/miniconda3/envs/jupyter/lib/python3.8/site-packages (from requests->google-search-results) (2.0.7)\n",
      "Requirement already satisfied: certifi>=2017.4.17 in /Users/jihwan/miniconda3/envs/jupyter/lib/python3.8/site-packages (from requests->google-search-results) (2023.7.22)\n"
     ]
    }
   ],
   "source": [
    "!pip install langchain\n",
    "!pip install langchain-experimental\n",
    "!pip install psycopg2-binary \n",
    "!pip install openai\n",
    "!pip install google-api-python-client\n",
    "!pip install google-search-results"
   ]
  },
  {
   "cell_type": "code",
   "execution_count": 2,
   "id": "d7276574-d707-4ea2-9810-4644b2a1ae28",
   "metadata": {},
   "outputs": [],
   "source": [
    "import os\n",
    "from langchain.agents import load_tools\n",
    "from langchain.agents import initialize_agent\n",
    "from langchain.agents import AgentType\n",
    "from langchain import OpenAI, SQLDatabase\n",
    "from langchain.chat_models import ChatOpenAI\n",
    "from langchain_experimental.sql import SQLDatabaseChain\n",
    "from langchain.agents import ZeroShotAgent, Tool, AgentExecutor\n",
    "from langchain.memory import ConversationBufferMemory\n",
    "from langchain.memory.chat_message_histories import RedisChatMessageHistory\n",
    "from langchain import OpenAI, LLMChain\n",
    "from langchain.utilities import GoogleSearchAPIWrapper\n",
    "from langchain.prompts.prompt import PromptTemplate\n",
    "from typing import Any, Dict, List\n",
    "from langchain.schema import BaseMemory\n",
    "from langchain_experimental.generative_agents.memory import GenerativeAgentMemory\n",
    "from langchain.memory.buffer import ConversationBufferMemory\n",
    "from langchain.chains.conversation.base import ConversationChain\n",
    "\n",
    "import warnings\n",
    "warnings.filterwarnings(\"ignore\")"
   ]
  },
  {
   "cell_type": "code",
   "execution_count": 3,
   "id": "40299489-27fd-443d-9f7d-15121253ff85",
   "metadata": {},
   "outputs": [],
   "source": [
    "OPENAI_API_KEY=\"\"\n",
    "SERPAPI_API_KEY = \"\"\n",
    "os.environ[\"OPENAI_API_KEY\"] = OPENAI_API_KEY\n",
    "os.environ[\"SERPAPI_API_KEY\"] = SERPAPI_API_KEY"
   ]
  },
  {
   "cell_type": "markdown",
   "id": "c06e4b33-b2fc-47bb-ac7b-5826c4d82da6",
   "metadata": {},
   "source": [
    "# #Task 1 - Converting Text to SQL Queries using LLM on Langchain"
   ]
  },
  {
   "cell_type": "code",
   "execution_count": 4,
   "id": "b6e3e034-e158-474a-b7f3-65c77c43a0d4",
   "metadata": {},
   "outputs": [],
   "source": [
    "DB_USER=\"\"\n",
    "DB_PASSWORD=\"\"\n",
    "DB_HOST=\"\"\n",
    "DB_PORT=\"\"\n",
    "DB_NAME=\"\"\n",
    "\n",
    "db = SQLDatabase.from_uri(\n",
    "    f'postgresql://{DB_USER}:{DB_PASSWORD}@{DB_HOST}:{DB_PORT}/{DB_NAME}',\n",
    ")\n",
    "\n",
    "# setup llm\n",
    "llm = ChatOpenAI(temperature=0, model_name=\"gpt-3.5-turbo\")\n",
    "\n",
    "# Create db chain\n",
    "prompt_query = \"\"\"\n",
    "            Given an input question, first create a syntactically correct postgresql query to run, then look at the results of the query and return the answer.\n",
    "\n",
    "            \n",
    "                \n",
    "            Here is the format to follow:\n",
    "            \n",
    "            Question: Question here\n",
    "            \n",
    "            SQLQuery: SQL Query to run\n",
    "            \n",
    "            SQLResult: Result of the SQLQuery\n",
    "            \n",
    "            Answer: Final answer here\n",
    "            \n",
    "            {question}\n",
    "      \"\"\"\n",
    "# Setup the database chain\n",
    "db_chain = SQLDatabaseChain(llm=llm,\n",
    "                            database=db,\n",
    "                            verbose=True,\n",
    "                            use_query_checker=True)\n"
   ]
  },
  {
   "cell_type": "code",
   "execution_count": 5,
   "id": "d83b05de-d2e7-4625-8283-f0071d40cc5f",
   "metadata": {},
   "outputs": [
    {
     "name": "stdout",
     "output_type": "stream",
     "text": [
      "\n",
      "\n",
      "\u001b[1m> Entering new SQLDatabaseChain chain...\u001b[0m\n",
      "\n",
      "            Given an input question, first create a syntactically correct postgresql query to run, then look at the results of the query and return the answer.\n",
      "\n",
      "            \n",
      "                \n",
      "            Here is the format to follow:\n",
      "            \n",
      "            Question: Question here\n",
      "            \n",
      "            SQLQuery: SQL Query to run\n",
      "            \n",
      "            SQLResult: Result of the SQLQuery\n",
      "            \n",
      "            Answer: Final answer here\n",
      "            \n",
      "            how much did TSLA's closing stock price on October 19, 2023?\n",
      "      \n",
      "SQLQuery:\u001b[32;1m\u001b[1;3mSELECT close_price\n",
      "FROM llm_stock\n",
      "WHERE symbol = 'TSLA' AND date = '2023-10-19';\u001b[0m\n",
      "SQLResult: \u001b[33;1m\u001b[1;3m[(220.11,)]\u001b[0m\n",
      "Answer:\u001b[32;1m\u001b[1;3mThe closing stock price of TSLA on October 19, 2023 was 220.11.\u001b[0m\n",
      "\u001b[1m> Finished chain.\u001b[0m\n"
     ]
    },
    {
     "data": {
      "text/plain": [
       "'The closing stock price of TSLA on October 19, 2023 was 220.11.'"
      ]
     },
     "execution_count": 5,
     "metadata": {},
     "output_type": "execute_result"
    }
   ],
   "source": [
    "question = \"how much did TSLA's closing stock price on October 19, 2023?\"\n",
    "query = prompt_query.format(question=question)\n",
    "db_chain.run(query)"
   ]
  },
  {
   "cell_type": "markdown",
   "id": "9592670e-a809-444c-8712-1a0c60f08df8",
   "metadata": {},
   "source": [
    "# #Task 2- Google Search Queries"
   ]
  },
  {
   "cell_type": "code",
   "execution_count": 6,
   "id": "549f94f0-20f1-46d1-b5fd-b41ddfaccdba",
   "metadata": {},
   "outputs": [],
   "source": [
    "llm = OpenAI(temperature=0, model_name='gpt-4')\n",
    "tools = load_tools([\"serpapi\"], llm=llm)\n",
    "\n",
    "agent = initialize_agent(tools, llm, agent=AgentType.ZERO_SHOT_REACT_DESCRIPTION, verbose=True)"
   ]
  },
  {
   "cell_type": "code",
   "execution_count": 7,
   "id": "40255f01-3147-4d60-8b9d-f3c476ced830",
   "metadata": {},
   "outputs": [
    {
     "name": "stdout",
     "output_type": "stream",
     "text": [
      "\n",
      "\n",
      "\u001b[1m> Entering new AgentExecutor chain...\u001b[0m\n",
      "\u001b[32;1m\u001b[1;3mI need to look up the current price of Tesla stock.\n",
      "Action: Search\n",
      "Action Input: \"current Tesla stock price\"\u001b[0m\n",
      "Observation: \u001b[36;1m\u001b[1;3m{'type': 'finance_results', 'title': 'Tesla Inc', 'exchange': 'NASDAQ', 'stock': ' TSLA', 'currency': 'USD', 'price': 197.36, 'previous_close': 207.3}\u001b[0m\n",
      "Thought:\u001b[32;1m\u001b[1;3mI now know the final answer.\n",
      "Final Answer: The recent price of Tesla stock is $197.36.\u001b[0m\n",
      "\n",
      "\u001b[1m> Finished chain.\u001b[0m\n"
     ]
    },
    {
     "data": {
      "text/plain": [
       "'The recent price of Tesla stock is $197.36.'"
      ]
     },
     "execution_count": 7,
     "metadata": {},
     "output_type": "execute_result"
    }
   ],
   "source": [
    "question = \"How much the Tesla stock price recently?\"\n",
    "agent.run(input=question)"
   ]
  },
  {
   "cell_type": "code",
   "execution_count": 8,
   "id": "635531a8-dc90-481a-a68a-13077ab5480c",
   "metadata": {},
   "outputs": [
    {
     "data": {
      "text/plain": [
       "\"As an AI, I don't have real-time data. Please check the latest financial news or stock market apps for the most recent price of Tesla stock.\""
      ]
     },
     "execution_count": 8,
     "metadata": {},
     "output_type": "execute_result"
    }
   ],
   "source": [
    "llm(\"How much the Tesla stock price recently?\")"
   ]
  },
  {
   "cell_type": "markdown",
   "id": "d2d37b8d-0294-422c-ac6e-9f9bd20bd0b8",
   "metadata": {},
   "source": [
    "# #Task 3 History Chatting"
   ]
  },
  {
   "cell_type": "code",
   "execution_count": 12,
   "id": "b1415728-bcff-488b-a1a2-54db9ed69e18",
   "metadata": {},
   "outputs": [],
   "source": [
    "from langchain.agents import ZeroShotAgent, Tool, AgentExecutor\n",
    "from langchain.memory import ConversationBufferMemory, ReadOnlySharedMemory\n",
    "from langchain.llms import OpenAI\n",
    "from langchain.chains import LLMChain\n",
    "from langchain.prompts import PromptTemplate\n",
    "from langchain.utilities import GoogleSearchAPIWrapper\n",
    "from langchain.utilities import SerpAPIWrapper"
   ]
  },
  {
   "cell_type": "code",
   "execution_count": 28,
   "id": "03ddcfdc-b9c3-49ab-9b7c-94d0fde2bab0",
   "metadata": {},
   "outputs": [],
   "source": [
    "template = \"\"\"This is a conversation between a human and a bot:\n",
    "\n",
    "{chat_history}\n",
    "\n",
    "Write a summary of the conversation for {input}:\n",
    "\"\"\"\n",
    "\n",
    "prompt = PromptTemplate(input_variables=[\"input\", \"chat_history\"], template=template)\n",
    "memory = ConversationBufferMemory(memory_key=\"chat_history\")\n",
    "readonlymemory = ReadOnlySharedMemory(memory=memory)\n",
    "summary_chain = LLMChain(\n",
    "    llm=OpenAI(),\n",
    "    prompt=prompt,\n",
    "    verbose=True,\n",
    "    memory=readonlymemory,\n",
    ")\n",
    "search = SerpAPIWrapper()\n",
    "\n",
    "tools = [\n",
    "    Tool(\n",
    "        name=\"Summary\",\n",
    "        func=summary_chain.run,\n",
    "        description=\"useful for when you summarize a conversation. The input to this tool should be a string, representing who will read this summary.\",\n",
    "    ),\n",
    "]\n"
   ]
  },
  {
   "cell_type": "code",
   "execution_count": 29,
   "id": "6347cae2-717f-407a-9a13-1b8942545f42",
   "metadata": {},
   "outputs": [],
   "source": [
    "prefix = \"\"\"Have a conversation with a human, answering the following questions as best you can. You have access to the following tools:\"\"\"\n",
    "suffix = \"\"\"Begin!\"\n",
    "\n",
    "{chat_history}\n",
    "Question: {input}\n",
    "{agent_scratchpad}\"\"\"\n",
    "\n",
    "prompt = ZeroShotAgent.create_prompt(\n",
    "    tools,\n",
    "    prefix=prefix,\n",
    "    suffix=suffix,\n",
    "    input_variables=[\"input\", \"chat_history\", \"agent_scratchpad\"],\n",
    ")\n",
    "\n",
    "llm_chain = LLMChain(llm=ChatOpenAI(temperature=0, model='gpt-4'), prompt=prompt)\n",
    "agent = ZeroShotAgent(llm_chain=llm_chain, tools=tools, verbose=True)\n",
    "agent_chain = AgentExecutor.from_agent_and_tools(\n",
    "    agent=agent, tools=tools, verbose=True, memory=memory\n",
    ")"
   ]
  },
  {
   "cell_type": "code",
   "execution_count": 30,
   "id": "660d21f2-c684-4c8f-9bb8-b5c3269b2661",
   "metadata": {},
   "outputs": [
    {
     "name": "stdout",
     "output_type": "stream",
     "text": [
      "\n",
      "\n",
      "\u001b[1m> Entering new AgentExecutor chain...\u001b[0m\n",
      "\u001b[32;1m\u001b[1;3mThought: The user is introducing themselves. No specific question has been asked, but a polite response is appropriate.\n",
      "Action: None required.\n",
      "Final Answer: Nice to meet you, Jihwan! How can I assist you today?\u001b[0m\n",
      "\n",
      "\u001b[1m> Finished chain.\u001b[0m\n"
     ]
    },
    {
     "data": {
      "text/plain": [
       "'Nice to meet you, Jihwan! How can I assist you today?'"
      ]
     },
     "execution_count": 30,
     "metadata": {},
     "output_type": "execute_result"
    }
   ],
   "source": [
    "agent_chain.run(\"Hi my name is jihwan\")"
   ]
  },
  {
   "cell_type": "code",
   "execution_count": 32,
   "id": "78c33c98-48c8-40da-b645-a2b783e76996",
   "metadata": {},
   "outputs": [
    {
     "name": "stdout",
     "output_type": "stream",
     "text": [
      "\n",
      "\n",
      "\u001b[1m> Entering new AgentExecutor chain...\u001b[0m\n",
      "\u001b[32;1m\u001b[1;3mThought: The human just told me their name is Jihwan.\n",
      "Final Answer: Yes, your name is Jihwan.\u001b[0m\n",
      "\n",
      "\u001b[1m> Finished chain.\u001b[0m\n"
     ]
    },
    {
     "data": {
      "text/plain": [
       "'Yes, your name is Jihwan.'"
      ]
     },
     "execution_count": 32,
     "metadata": {},
     "output_type": "execute_result"
    }
   ],
   "source": [
    "agent_chain.run(\"Do you remember my name?\")"
   ]
  }
 ],
 "metadata": {
  "kernelspec": {
   "display_name": "jupyter",
   "language": "python",
   "name": "david"
  },
  "language_info": {
   "codemirror_mode": {
    "name": "ipython",
    "version": 3
   },
   "file_extension": ".py",
   "mimetype": "text/x-python",
   "name": "python",
   "nbconvert_exporter": "python",
   "pygments_lexer": "ipython3",
   "version": "3.8.18"
  }
 },
 "nbformat": 4,
 "nbformat_minor": 5
}
